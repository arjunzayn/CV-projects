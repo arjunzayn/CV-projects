{
 "cells": [
  {
   "cell_type": "markdown",
   "id": "dd1e0a08",
   "metadata": {},
   "source": [
    "Project URL: [Link to Project](https://universe.roboflow.com/object-detection-bnlgf/thermal-image-detection-nzi5t)"
   ]
  },
  {
   "cell_type": "code",
   "execution_count": null,
   "id": "ef6444cb",
   "metadata": {},
   "outputs": [],
   "source": [
    "# Project Url: https://universe.roboflow.com/object-detection-bnlgf/thermal-image-detection-nzi5t\n",
    "\n",
    "# site this project \n",
    "    \n",
    "@misc{ thermal-image-detection-nzi5t_dataset,\n",
    "    title = { Thermal-Image-Detection Dataset },\n",
    "    type = { Open Source Dataset },\n",
    "    author = { Object Detection },\n",
    "    howpublished = { \\url{ https://universe.roboflow.com/object-detection-bnlgf/thermal-image-detection-nzi5t } },\n",
    "    url = { https://universe.roboflow.com/object-detection-bnlgf/thermal-image-detection-nzi5t },\n",
    "    journal = { Roboflow Universe },\n",
    "    publisher = { Roboflow },\n",
    "    year = { 2023 },\n",
    "    month = { jul },\n",
    "    note = { visited on 2023-07-27 },\n",
    "}"
   ]
  },
  {
   "cell_type": "code",
   "execution_count": null,
   "id": "5d09e375",
   "metadata": {},
   "outputs": [],
   "source": [
    "#Thermal-Image-Detection Detection API Docker Image\n",
    "#Install dependencies, \n",
    "\n",
    "!pip install roboflow\n",
    "\n",
    "from roboflow import Roboflow\n",
    "rf = Roboflow(api_key=\"API_KEY\")\n",
    "project = rf.workspace().project(\"thermal-image-detection-nzi5t\")\n",
    "model = project.version(1).model\n",
    "\n",
    "# infer on a local image\n",
    "print(model.predict(\"your_image.jpg\", confidence=40, overlap=30).json())\n",
    "\n",
    "# visualize your prediction\n",
    "# model.predict(\"your_image.jpg\", confidence=40, overlap=30).save(\"prediction.jpg\")\n",
    "\n",
    "# infer on an image hosted elsewhere\n",
    "# print(model.predict(\"URL_OF_YOUR_IMAGE\", hosted=True, confidence=40, overlap=30).json())"
   ]
  },
  {
   "cell_type": "code",
   "execution_count": null,
   "id": "73991ab1",
   "metadata": {},
   "outputs": [],
   "source": [
    "#Through Javascript\n",
    "\n",
    "const axios = require(\"axios\");\n",
    "const fs = require(\"fs\");\n",
    "\n",
    "const image = fs.readFileSync(\"YOUR_IMAGE.jpg\", {\n",
    "    encoding: \"base64\"\n",
    "});\n",
    "\n",
    "axios({\n",
    "    method: \"POST\",\n",
    "    url: \"https://detect.roboflow.com/thermal-image-detection-nzi5t/1\",\n",
    "    params: {\n",
    "        api_key: \"API_KEY\"\n",
    "    },\n",
    "    data: image,\n",
    "    headers: {\n",
    "        \"Content-Type\": \"application/x-www-form-urlencoded\"\n",
    "    }\n",
    "})\n",
    ".then(function(response) {\n",
    "    console.log(response.data);\n",
    "})\n",
    ".catch(function(error) {\n",
    "    console.log(error.message);\n",
    "});"
   ]
  },
  {
   "cell_type": "code",
   "execution_count": null,
   "id": "18384b45",
   "metadata": {},
   "outputs": [],
   "source": []
  }
 ],
 "metadata": {
  "kernelspec": {
   "display_name": "Python 3 (ipykernel)",
   "language": "python",
   "name": "python3"
  },
  "language_info": {
   "codemirror_mode": {
    "name": "ipython",
    "version": 3
   },
   "file_extension": ".py",
   "mimetype": "text/x-python",
   "name": "python",
   "nbconvert_exporter": "python",
   "pygments_lexer": "ipython3",
   "version": "3.9.13"
  }
 },
 "nbformat": 4,
 "nbformat_minor": 5
}
