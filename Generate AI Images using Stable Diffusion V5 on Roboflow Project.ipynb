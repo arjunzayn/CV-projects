{
 "cells": [
  {
   "cell_type": "code",
   "execution_count": null,
   "id": "db16348c",
   "metadata": {},
   "outputs": [],
   "source": [
    "# Installing Roboflow and other dependencies¶\n",
    "pip install -q --upgrade pip\n",
    "pip install -q --upgrade diffusers transformers scipy ftfy huggingface_hub roboflow"
   ]
  },
  {
   "cell_type": "code",
   "execution_count": null,
   "id": "c492a895",
   "metadata": {},
   "outputs": [],
   "source": [
    "# Authenticating with the Hugging Face Hub\n",
    "\n",
    "from huggingface_hub import notebook_login\n",
    "\n",
    "# Required to get access to stable diffusion model\n",
    "notebook_login()"
   ]
  },
  {
   "cell_type": "code",
   "execution_count": null,
   "id": "30614ff6",
   "metadata": {},
   "outputs": [],
   "source": [
    "# Using the Hugging Face StableDiffusionPipeline Class\n",
    "\n",
    "import torch\n",
    "from diffusers import StableDiffusionPipeline\n",
    "\n",
    "pipeline = StableDiffusionPipeline.from_pretrained(\n",
    "    \"runwayml/stable-diffusion-v1-5\", torch_dtype=torch.float16, revision=\"fp16\"\n",
    ")\n",
    "\n",
    "pipeline = pipeline.to(\"cuda\") #nividia A100"
   ]
  },
  {
   "cell_type": "code",
   "execution_count": null,
   "id": "1b5cbe3e",
   "metadata": {},
   "outputs": [],
   "source": [
    "# Creating Images Using Generate Images Function\n",
    "\n",
    "import os\n",
    "\n",
    "from IPython.display import Image, display\n",
    "\n",
    "def generate_images(\n",
    "    prompt,\n",
    "    num_images_to_generate,\n",
    "    num_images_per_prompt=4,\n",
    "    guidance_scale=8,\n",
    "    output_dir=\"generated_images\",\n",
    "    display_images=False,\n",
    "):\n",
    "\n",
    "    num_iterations = num_images_to_generate // num_images_per_prompt\n",
    "    os.makedirs(output_dir, exist_ok=True)\n",
    "\n",
    "    for i in range(num_iterations):\n",
    "        images = pipeline(\n",
    "            prompt, num_images_per_prompt=num_images_per_prompt, guidance_scale=guidance_scale\n",
    "        )\n",
    "        for idx, image in enumerate(images.images):\n",
    "            image_name = f\"{output_dir}/image_{(i*num_images_per_prompt)+idx}.png\"\n",
    "            image.save(image_name)\n",
    "            if display_images:\n",
    "                display(Image(filename=image_name, width=128, height=128))"
   ]
  },
  {
   "cell_type": "code",
   "execution_count": null,
   "id": "d91a1d46",
   "metadata": {},
   "outputs": [],
   "source": [
    "# 1000 images takes 2-3 hours on a SageMaker Studio Lab GPU instance. \n",
    "# You can adjust the total image number below\n",
    "\n",
    "generate_images(\"aerial view of cattle\", 12, guidance_scale=4, display_images=True)"
   ]
  },
  {
   "cell_type": "code",
   "execution_count": null,
   "id": "c4635820",
   "metadata": {},
   "outputs": [],
   "source": [
    "# Here You Should ready with you Roboflow Account\n",
    "# Push Generated Data to your Roboflow Project Directory using PIP Package\n",
    "# Upload your Images to Roboflow via PIP package"
   ]
  },
  {
   "cell_type": "code",
   "execution_count": null,
   "id": "b2ecd4cd",
   "metadata": {},
   "outputs": [],
   "source": [
    "# Set Home path\n",
    "\n",
    "import os\n",
    "HOME = os.getcwd()"
   ]
  },
  {
   "cell_type": "code",
   "execution_count": null,
   "id": "05e740ff",
   "metadata": {},
   "outputs": [],
   "source": [
    "from roboflow import Roboflow\n",
    "import glob\n",
    "import os\n",
    "\n",
    "# glob params\n",
    "image_dir = os.path.join(HOME, \"generated_images\", \"\")\n",
    "file_extension_type = \".png\"\n",
    "\n",
    "# roboflow pip params\n",
    "rf = Roboflow(api_key=\"YOUR_API_KEY\")\n",
    "upload_project = rf.workspace().project(\"YOUR_PROJECT_NAME\")\n",
    "\n",
    "# glob images\n",
    "image_glob = glob.glob(image_dir + '/*' + file_extension_type)\n",
    "\n",
    "# perform upload\n",
    "for image in image_glob:\n",
    "    upload_project.upload(image, num_retry_uploads=3)\n",
    "    print(\"*** Processing image [\" + str(len(image_glob)) + \"] - \" + image + \" ***\")"
   ]
  },
  {
   "cell_type": "code",
   "execution_count": null,
   "id": "0442014a",
   "metadata": {},
   "outputs": [],
   "source": [
    "# Check Images in RoboFlow Directory"
   ]
  },
  {
   "cell_type": "code",
   "execution_count": null,
   "id": "3aa691a8",
   "metadata": {},
   "outputs": [],
   "source": [
    "# Annotate the image for further modelling"
   ]
  }
 ],
 "metadata": {
  "kernelspec": {
   "display_name": "Python 3 (ipykernel)",
   "language": "python",
   "name": "python3"
  },
  "language_info": {
   "codemirror_mode": {
    "name": "ipython",
    "version": 3
   },
   "file_extension": ".py",
   "mimetype": "text/x-python",
   "name": "python",
   "nbconvert_exporter": "python",
   "pygments_lexer": "ipython3",
   "version": "3.9.13"
  }
 },
 "nbformat": 4,
 "nbformat_minor": 5
}
